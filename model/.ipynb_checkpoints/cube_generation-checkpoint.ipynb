{
 "cells": [
  {
   "cell_type": "code",
   "execution_count": 6,
   "metadata": {},
   "outputs": [],
   "source": [
    "import random\n",
    "\n",
    "num_point = 20\n",
    "file_name = \"cube.node\"\n",
    "\n",
    "\n",
    "with open(file_name, 'w') as f:\n",
    "    f.write(\"{}  3  0  0\".format(num_point+8))\n",
    "    f.write(\"\\n\")\n",
    "    for i in range(num_point):\n",
    "        f.write(str(i) + \" {} {} {}\\n\".format(random.uniform(0,2),random.uniform(0,2),random.uniform(0,2)))\n",
    "    f.write(\"20 1 -1 1\\n\")\n",
    "    f.write(\"21 1 -1 0\\n\")    \n",
    "    f.write(\"22 0 -1 1\\n\")    \n",
    "    f.write(\"23 1 0 0\\n\")    \n",
    "    f.write(\"24 0 0 1\\n\")    \n",
    "    f.write(\"25 0 -1 0\\n\")    \n",
    "    f.write(\"26 0 0 0\\n\")    \n",
    "    f.write(\"27 1 0 1\\n\")    "
   ]
  },
  {
   "cell_type": "code",
   "execution_count": null,
   "metadata": {},
   "outputs": [],
   "source": [
    "   0    20  -20  20\n",
    "   1    20  -20  0\n",
    "   2    0  -20  20\n",
    "   3    20  0  0\n",
    "   4    0  0  20\n",
    "   5    0  -20  0\n",
    "   6    0  0  0\n",
    "   7    20  0  20"
   ]
  }
 ],
 "metadata": {
  "kernelspec": {
   "display_name": "Python 3",
   "language": "python",
   "name": "python3"
  },
  "language_info": {
   "codemirror_mode": {
    "name": "ipython",
    "version": 3
   },
   "file_extension": ".py",
   "mimetype": "text/x-python",
   "name": "python",
   "nbconvert_exporter": "python",
   "pygments_lexer": "ipython3",
   "version": "3.6.8"
  }
 },
 "nbformat": 4,
 "nbformat_minor": 2
}
