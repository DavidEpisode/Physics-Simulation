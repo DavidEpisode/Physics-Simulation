{
 "cells": [
  {
   "cell_type": "code",
   "execution_count": 6,
   "metadata": {},
   "outputs": [],
   "source": [
    "import random\n",
    "\n",
    "num_point = 20\n",
    "file_name = \"cube.node\"\n",
    "\n",
    "\n",
    "with open(file_name, 'w') as f:\n",
    "    f.write(\"{}  3  0  0\".format(num_point+8))\n",
    "    f.write(\"\\n\")\n",
    "    for i in range(num_point):\n",
    "        f.write(str(i) + \" {} {} {}\\n\".format(random.uniform(0,2),random.uniform(0,2),random.uniform(0,2)))"
   ]
  },
  {
   "cell_type": "code",
   "execution_count": null,
   "metadata": {},
   "outputs": [],
   "source": [
    "   0    20  -20  20\n",
    "   1    20  -20  0\n",
    "   2    0  -20  20\n",
    "   3    20  0  0\n",
    "   4    0  0  20\n",
    "   5    0  -20  0\n",
    "   6    0  0  0\n",
    "   7    20  0  20"
   ]
  },
  {
   "cell_type": "code",
   "execution_count": 4,
   "metadata": {},
   "outputs": [],
   "source": [
    "layer_x = 3\n",
    "layer_y = 5\n",
    "layer_z = 3\n",
    "\n",
    "file_name = \"./rectangle/rectangle.node\"\n",
    "\n",
    "n = 0\n",
    "\n",
    "with open(file_name, 'w') as f:\n",
    "    f.write(\"{}  3  0  0\".format(3*5*3))\n",
    "    f.write(\"\\n\")\n",
    "    for i in range(layer_z):\n",
    "        for j in range(layer_y):\n",
    "            for k in range(layer_x):\n",
    "                f.write(str(n) + \" {} {} {}\\n\".format(k, j, i))\n",
    "                n+=1"
   ]
  },
  {
   "cell_type": "code",
   "execution_count": null,
   "metadata": {},
   "outputs": [],
   "source": []
  }
 ],
 "metadata": {
  "kernelspec": {
   "display_name": "Python 3",
   "language": "python",
   "name": "python3"
  },
  "language_info": {
   "codemirror_mode": {
    "name": "ipython",
    "version": 3
   },
   "file_extension": ".py",
   "mimetype": "text/x-python",
   "name": "python",
   "nbconvert_exporter": "python",
   "pygments_lexer": "ipython3",
   "version": "3.6.8"
  }
 },
 "nbformat": 4,
 "nbformat_minor": 2
}
